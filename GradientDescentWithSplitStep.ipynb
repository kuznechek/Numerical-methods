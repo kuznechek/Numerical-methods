{
  "nbformat": 4,
  "nbformat_minor": 0,
  "metadata": {
    "colab": {
      "name": "GradientDescentWithSplitStep.ipynb\"",
      "provenance": [],
      "collapsed_sections": [],
      "authorship_tag": "ABX9TyP2J1yo/qiWBuUR7vkeuwQI",
      "include_colab_link": true
    },
    "kernelspec": {
      "name": "python3",
      "display_name": "Python 3"
    }
  },
  "cells": [
    {
      "cell_type": "markdown",
      "metadata": {
        "id": "view-in-github",
        "colab_type": "text"
      },
      "source": [
        "<a href=\"https://colab.research.google.com/github/kuznechek/Numerical-methods/blob/main/GradientDescentWithSplitStep.ipynb\" target=\"_parent\"><img src=\"https://colab.research.google.com/assets/colab-badge.svg\" alt=\"Open In Colab\"/></a>"
      ]
    },
    {
      "cell_type": "markdown",
      "metadata": {
        "id": "LhCY1GIMEnck"
      },
      "source": [
        "# Градиентный спуск с дроблением шага"
      ]
    },
    {
      "cell_type": "markdown",
      "metadata": {
        "id": "GaoX7w5cE1C0"
      },
      "source": [
        "Исходные параметры:\n",
        "\n",
        "Одномерный тензор Х = [0.125, 2.625, -0.625]\n",
        "\n",
        "Шаг = 0.01, коэффициент дробления = 0.5\n",
        "\n",
        "Заданная точность = 0.001"
      ]
    },
    {
      "cell_type": "code",
      "metadata": {
        "id": "XtgNczbTa8QJ",
        "outputId": "d19e61ba-13a3-4816-edec-d4e59bc29d9d",
        "colab": {
          "base_uri": "https://localhost:8080/",
          "height": 748
        }
      },
      "source": [
        "import torch\n",
        "\n",
        "def function(w):\n",
        "  w1 = w[0] \n",
        "  w2 = w[1]\n",
        "  w3 = w[2]\n",
        "  result = 3 *w1**2 + w2**2 + 5*w3**2 - w1*w2 + 2*w1*w3 + 6*w1 - 5*w2\n",
        "  return result\n",
        "\n",
        "x = torch.tensor([0.125, 2.625, -0.625], requires_grad = True)\n",
        "alpha = 0.01\n",
        "k = 0\n",
        "norma = 10\n",
        "print('Начальные координаты : X =', x.data)\n",
        "print('')\n",
        "\n",
        "while (norma >= 0.001):\n",
        "  fx = function(x)\n",
        "  fx.backward()\n",
        "  gx = x.grad\n",
        "  x_new = x - alpha*gx\n",
        "  fx_new = function(x_new)  \n",
        "  fx_new.backward()\n",
        "  norma = torch.norm(fx - fx_new)\n",
        "  if norma >= abs(alpha * torch.norm(gx)):\n",
        "    alpha *= 0.5\n",
        "  else:\n",
        "    x = x_new \n",
        "  print('X* =', x_new.data)\n",
        "  print('f(X*) :', fx_new)\n",
        "  print('Норма :', norma)\n",
        "  print(' ')\n",
        "  k += 1\n",
        "  x.grad.zero_()\n",
        "print('Всего итераций :', k)"
      ],
      "execution_count": null,
      "outputs": [
        {
          "output_type": "stream",
          "text": [
            "Начальные координаты : X = tensor([ 0.1250,  2.6250, -0.6250])\n",
            "\n",
            "X* = tensor([ 0.0962,  2.6237, -0.5650])\n",
            "f(X*) : tensor(-4.3946, grad_fn=<SubBackward0>)\n",
            "Норма : tensor(0.4258, grad_fn=<NormBackward0>)\n",
            " \n",
            "X* = tensor([ 0.1106,  2.6244, -0.5950])\n",
            "f(X*) : tensor(-4.1859, grad_fn=<SubBackward0>)\n",
            "Норма : tensor(0.2172, grad_fn=<NormBackward0>)\n",
            " \n",
            "X* = tensor([ 0.1178,  2.6247, -0.6100])\n",
            "f(X*) : tensor(-4.0784, grad_fn=<SubBackward0>)\n",
            "Норма : tensor(0.1096, grad_fn=<NormBackward0>)\n",
            " \n",
            "X* = tensor([ 0.1214,  2.6248, -0.6175])\n",
            "f(X*) : tensor(-4.0238, grad_fn=<SubBackward0>)\n",
            "Норма : tensor(0.0551, grad_fn=<NormBackward0>)\n",
            " \n",
            "X* = tensor([ 0.1232,  2.6249, -0.6212])\n",
            "f(X*) : tensor(-3.9964, grad_fn=<SubBackward0>)\n",
            "Норма : tensor(0.0276, grad_fn=<NormBackward0>)\n",
            " \n",
            "X* = tensor([ 0.1241,  2.6250, -0.6231])\n",
            "f(X*) : tensor(-3.9826, grad_fn=<SubBackward0>)\n",
            "Норма : tensor(0.0138, grad_fn=<NormBackward0>)\n",
            " \n",
            "X* = tensor([ 0.1246,  2.6250, -0.6241])\n",
            "f(X*) : tensor(-3.9757, grad_fn=<SubBackward0>)\n",
            "Норма : tensor(0.0069, grad_fn=<NormBackward0>)\n",
            " \n",
            "X* = tensor([ 0.1248,  2.6250, -0.6245])\n",
            "f(X*) : tensor(-3.9722, grad_fn=<SubBackward0>)\n",
            "Норма : tensor(0.0035, grad_fn=<NormBackward0>)\n",
            " \n",
            "X* = tensor([ 0.1249,  2.6250, -0.6248])\n",
            "f(X*) : tensor(-3.9705, grad_fn=<SubBackward0>)\n",
            "Норма : tensor(0.0017, grad_fn=<NormBackward0>)\n",
            " \n",
            "X* = tensor([ 0.1249,  2.6250, -0.6249])\n",
            "f(X*) : tensor(-3.9696, grad_fn=<SubBackward0>)\n",
            "Норма : tensor(0.0009, grad_fn=<NormBackward0>)\n",
            " \n",
            "Всего итераций : 10\n"
          ],
          "name": "stdout"
        }
      ]
    }
  ]
}