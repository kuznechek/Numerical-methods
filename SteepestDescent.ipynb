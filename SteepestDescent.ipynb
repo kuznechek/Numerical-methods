{
  "nbformat": 4,
  "nbformat_minor": 0,
  "metadata": {
    "colab": {
      "name": "SteepestDescent.ipynb",
      "provenance": [],
      "collapsed_sections": [],
      "authorship_tag": "ABX9TyMBfU6AHnUiOKI62FZZ69m9",
      "include_colab_link": true
    },
    "kernelspec": {
      "name": "python3",
      "display_name": "Python 3"
    }
  },
  "cells": [
    {
      "cell_type": "markdown",
      "metadata": {
        "id": "view-in-github",
        "colab_type": "text"
      },
      "source": [
        "<a href=\"https://colab.research.google.com/github/kuznechek/Numerical-methods/blob/main/SteepestDescent.ipynb\" target=\"_parent\"><img src=\"https://colab.research.google.com/assets/colab-badge.svg\" alt=\"Open In Colab\"/></a>"
      ]
    },
    {
      "cell_type": "markdown",
      "metadata": {
        "id": "LhCY1GIMEnck"
      },
      "source": [
        "# Метод наискорейшего спуска"
      ]
    },
    {
      "cell_type": "markdown",
      "metadata": {
        "id": "GaoX7w5cE1C0"
      },
      "source": [
        "Исходные параметры:\n",
        "\n",
        "Одномерный тензор Х = [0.125, 2.625, -0.625]\n",
        "\n",
        "Заданная точность = 0.001"
      ]
    },
    {
      "cell_type": "code",
      "metadata": {
        "id": "kvZqQKePxAOw",
        "outputId": "5a76397d-03c4-4e67-f6d1-1624412a2454",
        "colab": {
          "base_uri": "https://localhost:8080/",
          "height": 617
        }
      },
      "source": [
        "import torch\n",
        "import numpy\n",
        "\n",
        "def function(w):\n",
        "  w1 = w[0] \n",
        "  w2 = w[1]\n",
        "  w3 = w[2]\n",
        "  result = 3 *w1**2 + w2**2 + 5*w3**2 - w1*w2 + 2*w1*w3 + 6*w1 - 5*w2\n",
        "  return result\n",
        "\n",
        "def partial_der(w):\n",
        "  w1 = w[0] \n",
        "  w2 = w[1]\n",
        "  w3 = w[2]\n",
        "  v = (6*w1 + w2 + 7*w3 + 1) / 12\n",
        "  return v + 0.001\n",
        "\n",
        "x = torch.tensor([0.125, 2.625, -0.625], requires_grad = True)\n",
        "k = 0\n",
        "norma = 10.\n",
        "print('Начальные координаты : X =', x.data)\n",
        "print('')\n",
        "\n",
        "while norma > 0.001:\n",
        "  k += 1\n",
        "  fx = function(x)\n",
        "  fx.backward()\n",
        "  gx = x.grad\n",
        "  s = - gx / torch.norm(gx)\n",
        "  t = partial_der(x)\n",
        "  x_new = x.data - t*s\n",
        "  x.data = x_new\n",
        "  fx_new = function(x_new)\n",
        "  norma = torch.norm(fx_new - fx)\n",
        "  print('X* =', x_new)\n",
        "  print('f(X*) =', fx_new)\n",
        "  print('Норма :', norma)\n",
        "  print('')\n",
        "  x.grad.zero_()\n",
        "  \n",
        "print('Всего итераций :', k)\n",
        "print('Х* =', x_new)\n",
        "print('Норма :', norma)\n"
      ],
      "execution_count": null,
      "outputs": [
        {
          "output_type": "stream",
          "text": [
            "Начальные координаты : X = tensor([ 0.1250,  2.6250, -0.6250])\n",
            "\n",
            "X* = tensor([ 0.1254,  2.6250, -0.6259], grad_fn=<SubBackward0>)\n",
            "f(X*) = tensor(-3.9621, grad_fn=<SubBackward0>)\n",
            "Норма : tensor(0.0067, grad_fn=<NormBackward0>)\n",
            "\n",
            "X* = tensor([ 0.1257,  2.6250, -0.6265], grad_fn=<SubBackward0>)\n",
            "f(X*) = tensor(-3.9575, grad_fn=<SubBackward0>)\n",
            "Норма : tensor(0.0046, grad_fn=<NormBackward0>)\n",
            "\n",
            "X* = tensor([ 0.1259,  2.6250, -0.6270], grad_fn=<SubBackward0>)\n",
            "f(X*) = tensor(-3.9543, grad_fn=<SubBackward0>)\n",
            "Норма : tensor(0.0032, grad_fn=<NormBackward0>)\n",
            "\n",
            "X* = tensor([ 0.1261,  2.6250, -0.6273], grad_fn=<SubBackward0>)\n",
            "f(X*) = tensor(-3.9521, grad_fn=<SubBackward0>)\n",
            "Норма : tensor(0.0022, grad_fn=<NormBackward0>)\n",
            "\n",
            "X* = tensor([ 0.1262,  2.6251, -0.6275], grad_fn=<SubBackward0>)\n",
            "f(X*) = tensor(-3.9506, grad_fn=<SubBackward0>)\n",
            "Норма : tensor(0.0015, grad_fn=<NormBackward0>)\n",
            "\n",
            "X* = tensor([ 0.1262,  2.6251, -0.6276], grad_fn=<SubBackward0>)\n",
            "f(X*) = tensor(-3.9495, grad_fn=<SubBackward0>)\n",
            "Норма : tensor(0.0011, grad_fn=<NormBackward0>)\n",
            "\n",
            "X* = tensor([ 0.1263,  2.6251, -0.6277], grad_fn=<SubBackward0>)\n",
            "f(X*) = tensor(-3.9488, grad_fn=<SubBackward0>)\n",
            "Норма : tensor(0.0007, grad_fn=<NormBackward0>)\n",
            "\n",
            "Всего итераций : 7\n",
            "Х* = tensor([ 0.1263,  2.6251, -0.6277], grad_fn=<SubBackward0>)\n",
            "Норма : tensor(0.0007, grad_fn=<NormBackward0>)\n"
          ],
          "name": "stdout"
        }
      ]
    }
  ]
}