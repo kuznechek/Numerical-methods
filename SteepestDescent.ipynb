{
  "nbformat": 4,
  "nbformat_minor": 0,
  "metadata": {
    "colab": {
      "name": "SteepestDescent.ipynb",
      "provenance": [],
      "collapsed_sections": [],
      "authorship_tag": "ABX9TyMssFp9YnKSLr6Qpp6bYbZz",
      "include_colab_link": true
    },
    "kernelspec": {
      "name": "python3",
      "display_name": "Python 3"
    }
  },
  "cells": [
    {
      "cell_type": "markdown",
      "metadata": {
        "id": "view-in-github",
        "colab_type": "text"
      },
      "source": [
        "<a href=\"https://colab.research.google.com/github/kuznechek/Numerical-methods/blob/main/SteepestDescent.ipynb\" target=\"_parent\"><img src=\"https://colab.research.google.com/assets/colab-badge.svg\" alt=\"Open In Colab\"/></a>"
      ]
    },
    {
      "cell_type": "markdown",
      "metadata": {
        "id": "LhCY1GIMEnck"
      },
      "source": [
        "# Метод наискорейшего спуска"
      ]
    },
    {
      "cell_type": "markdown",
      "metadata": {
        "id": "GaoX7w5cE1C0"
      },
      "source": [
        "Исходные параметры:\n",
        "\n",
        "Одномерный тензор Х = [0.686, 2.157, -0.137]\n",
        "\n",
        "Заданная точность = 0.001"
      ]
    },
    {
      "cell_type": "code",
      "metadata": {
        "id": "kvZqQKePxAOw",
        "colab": {
          "base_uri": "https://localhost:8080/"
        },
        "outputId": "d0226c2d-836c-401b-d398-276df2be470f"
      },
      "source": [
        "import torch\n",
        "import numpy\n",
        "\n",
        "def function(w):\n",
        "  w1 = w[0] \n",
        "  w2 = w[1]\n",
        "  w3 = w[2]\n",
        "  result = 3 *w1**2 + w2**2 + 5*w3**2 - w1*w2 + 2*w1*w3 + 6*w1 - 5*w2\n",
        "  return result\n",
        "\n",
        "def partial_der(w):\n",
        "  w1 = w[0] \n",
        "  w2 = w[1]\n",
        "  w3 = w[2]\n",
        "  v = (3*w1 - w2 - 10*w3 - 1) / 12\n",
        "  return v\n",
        "\n",
        "x = torch.tensor([0.686, 2.157, -0.137], requires_grad = True)\n",
        "k = 0\n",
        "norma = 10.\n",
        "print('Начальные координаты : X =', x.data)\n",
        "print('')\n",
        "\n",
        "while norma > 0.01:\n",
        "  k += 1\n",
        "  fx = function(x)\n",
        "  fx.backward()\n",
        "  gx = x.grad\n",
        "  s = gx / torch.norm(gx)\n",
        "  t = partial_der(x)\n",
        "  x_new = x.data - t*s\n",
        "  x.data = x_new\n",
        "  fx_new = function(x_new)\n",
        "  norma = torch.norm(fx_new - fx)\n",
        "  print('Итерация :', k)\n",
        "  print('X* =', x_new)\n",
        "  print('f(X*) =', fx_new)\n",
        "  print('')\n",
        "  x.grad.zero_()\n",
        "  \n",
        "print('Всего итераций :', k)\n",
        "print('Х* =', x_new)\n",
        "print('Норма :', norma)"
      ],
      "execution_count": 18,
      "outputs": [
        {
          "output_type": "stream",
          "text": [
            "Начальные координаты : X = tensor([ 0.6860,  2.1570, -0.1370])\n",
            "\n",
            "Итерация : 1\n",
            "X* = tensor([ 0.6638,  2.1610, -0.1370], grad_fn=<SubBackward0>)\n",
            "f(X*) = tensor(-2.3531, grad_fn=<SubBackward0>)\n",
            "\n",
            "Итерация : 2\n",
            "X* = tensor([ 0.6473,  2.1639, -0.1369], grad_fn=<SubBackward0>)\n",
            "f(X*) = tensor(-2.4802, grad_fn=<SubBackward0>)\n",
            "\n",
            "Итерация : 3\n",
            "X* = tensor([ 0.6352,  2.1660, -0.1368], grad_fn=<SubBackward0>)\n",
            "f(X*) = tensor(-2.5726, grad_fn=<SubBackward0>)\n",
            "\n",
            "Итерация : 4\n",
            "X* = tensor([ 0.6264,  2.1676, -0.1367], grad_fn=<SubBackward0>)\n",
            "f(X*) = tensor(-2.6395, grad_fn=<SubBackward0>)\n",
            "\n",
            "Итерация : 5\n",
            "X* = tensor([ 0.6200,  2.1687, -0.1366], grad_fn=<SubBackward0>)\n",
            "f(X*) = tensor(-2.6879, grad_fn=<SubBackward0>)\n",
            "\n",
            "Итерация : 6\n",
            "X* = tensor([ 0.6153,  2.1696, -0.1365], grad_fn=<SubBackward0>)\n",
            "f(X*) = tensor(-2.7229, grad_fn=<SubBackward0>)\n",
            "\n",
            "Итерация : 7\n",
            "X* = tensor([ 0.6119,  2.1701, -0.1364], grad_fn=<SubBackward0>)\n",
            "f(X*) = tensor(-2.7482, grad_fn=<SubBackward0>)\n",
            "\n",
            "Итерация : 8\n",
            "X* = tensor([ 0.6095,  2.1706, -0.1364], grad_fn=<SubBackward0>)\n",
            "f(X*) = tensor(-2.7665, grad_fn=<SubBackward0>)\n",
            "\n",
            "Итерация : 9\n",
            "X* = tensor([ 0.6077,  2.1709, -0.1363], grad_fn=<SubBackward0>)\n",
            "f(X*) = tensor(-2.7797, grad_fn=<SubBackward0>)\n",
            "\n",
            "Итерация : 10\n",
            "X* = tensor([ 0.6064,  2.1711, -0.1363], grad_fn=<SubBackward0>)\n",
            "f(X*) = tensor(-2.7892, grad_fn=<SubBackward0>)\n",
            "\n",
            "Всего итераций : 10\n",
            "Х* = tensor([ 0.6064,  2.1711, -0.1363], grad_fn=<SubBackward0>)\n",
            "Норма : tensor(0.0095, grad_fn=<CopyBackwards>)\n"
          ],
          "name": "stdout"
        }
      ]
    }
  ]
}