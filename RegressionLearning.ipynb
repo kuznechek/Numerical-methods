{
  "nbformat": 4,
  "nbformat_minor": 0,
  "metadata": {
    "colab": {
      "name": "RegressionNet.ipynb",
      "provenance": [],
      "collapsed_sections": [],
      "authorship_tag": "ABX9TyMvr31Gqjc8UvVqWqMD0mjC",
      "include_colab_link": true
    },
    "kernelspec": {
      "name": "python3",
      "display_name": "Python 3"
    }
  },
  "cells": [
    {
      "cell_type": "markdown",
      "metadata": {
        "id": "view-in-github",
        "colab_type": "text"
      },
      "source": [
        "<a href=\"https://colab.research.google.com/github/kuznechek/Numerical-methods/blob/main/RegressionLearning.ipynb\" target=\"_parent\"><img src=\"https://colab.research.google.com/assets/colab-badge.svg\" alt=\"Open In Colab\"/></a>"
      ]
    },
    {
      "cell_type": "markdown",
      "metadata": {
        "id": "_G6oLpismx2j"
      },
      "source": [
        "##Обучение нейронной сети для задачи регрессии"
      ]
    },
    {
      "cell_type": "code",
      "metadata": {
        "id": "-4CZ1RK1jmCa",
        "outputId": "cbee85e0-0605-4838-ac14-d04961114ee3",
        "colab": {
          "base_uri": "https://localhost:8080/",
          "height": 296
        }
      },
      "source": [
        "import torch\n",
        "import matplotlib.pyplot as plt\n",
        "\n",
        "def target_function(x):\n",
        "    return 2**x * torch.sin(2**-x)\n",
        "\n",
        "def predict(net, x, y):\n",
        "    y_pred = net.forward(x)\n",
        "    plt.plot(x.numpy(), y.numpy(), 'o', label='Groud truth')\n",
        "    plt.plot(x.numpy(), y_pred.data.numpy(), 'o', c='r', label='Prediction');\n",
        "    plt.legend(loc='upper left')\n",
        "    plt.xlabel('$x$')\n",
        "    plt.ylabel('$y$')\n",
        "def metric(pred, target):\n",
        "   return (pred - target).abs().mean()\n",
        "\n",
        "class RegressionNet(torch.nn.Module):\n",
        "  def __init__(self, hidden):\n",
        "    super(RegressionNet, self).__init__()\n",
        "    self.fc1 = torch.nn.Linear(1, hidden)\n",
        "    self.act1 = torch.nn.Tanh()\n",
        "    self.fc2 = torch.nn.Linear(hidden, hidden)\n",
        "    self.act2 = torch.nn.Tanh()\n",
        "    self.fc3 = torch.nn.Linear(hidden, 1)\n",
        "  def forward(self, x):\n",
        "    x = self.fc1(x)\n",
        "    x = self.act1(x)\n",
        "    x = self.fc2(x)\n",
        "    x = self.act2(x)\n",
        "    x = self.fc3(x)\n",
        "    return x\n",
        "\n",
        "net = RegressionNet(20)\n",
        "\n",
        "# ------Dataset preparation start--------:\n",
        "x_train =  torch.linspace(-10, 5, 100)\n",
        "y_train = target_function(x_train)\n",
        "noise = torch.randn(y_train.shape) / 20.\n",
        "y_train = y_train + noise\n",
        "x_train.unsqueeze_(1)\n",
        "y_train.unsqueeze_(1)\n",
        "\n",
        "x_validation = torch.linspace(-10, 5, 100)\n",
        "y_validation = target_function(x_validation)\n",
        "x_validation.unsqueeze_(1)\n",
        "y_validation.unsqueeze_(1)\n",
        "# ------Dataset preparation end--------:\n",
        "\n",
        "\n",
        "optimizer = torch.optim.Adam(net.parameters(), lr=0.001)\n",
        "\n",
        "def loss(pred, target):\n",
        "    squares = (pred - target) ** 2\n",
        "    return squares.mean()\n",
        "\n",
        "for epoch_index in range(2000):\n",
        "    optimizer.zero_grad()\n",
        "    y_pred = net.forward(x_train)\n",
        "    loss_value = loss(y_pred, y_train)\n",
        "    loss_value.backward()\n",
        "    optimizer.step()\n",
        "\n",
        "print(metric(net.forward(x_validation), y_validation).item())\n",
        "predict(net, x_validation, y_validation)"
      ],
      "execution_count": null,
      "outputs": [
        {
          "output_type": "stream",
          "text": [
            "0.025543492287397385\n"
          ],
          "name": "stdout"
        },
        {
          "output_type": "display_data",
          "data": {
            "image/png": "[encoded data removed]",
            "text/plain": [
              "<Figure size 432x288 with 1 Axes>"
            ]
          },
          "metadata": {
            "tags": [],
            "needs_background": "light"
          }
        }
      ]
    }
  ]
}