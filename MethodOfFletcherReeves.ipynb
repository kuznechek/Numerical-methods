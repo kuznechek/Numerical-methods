{
  "nbformat": 4,
  "nbformat_minor": 0,
  "metadata": {
    "colab": {
      "name": "MethodOfFletcherReeves.ipynb",
      "provenance": [],
      "collapsed_sections": [],
      "authorship_tag": "ABX9TyPoZOP0jqye/PiV5VtF5LM/",
      "include_colab_link": true
    },
    "kernelspec": {
      "name": "python3",
      "display_name": "Python 3"
    }
  },
  "cells": [
    {
      "cell_type": "markdown",
      "metadata": {
        "id": "view-in-github",
        "colab_type": "text"
      },
      "source": [
        "<a href=\"https://colab.research.google.com/github/kuznechek/Numerical-methods/blob/main/MethodOfFletcherReeves.ipynb\" target=\"_parent\"><img src=\"https://colab.research.google.com/assets/colab-badge.svg\" alt=\"Open In Colab\"/></a>"
      ]
    },
    {
      "cell_type": "code",
      "metadata": {
        "colab": {
          "base_uri": "https://localhost:8080/"
        },
        "id": "LRzECmKq0ehS",
        "outputId": "50d5f3ac-a7c5-4771-addd-456e07f0cc61"
      },
      "source": [
        "machineAcc = 0.000000001\n",
        "import sys\n",
        "import numpy as np\n",
        "from scipy import optimize\n",
        "\n",
        "def function(w):\n",
        "  w1 = w[0]\n",
        "  w2 = w[1]\n",
        "  w3 = w[2]\n",
        "  result = 3 *w1**2 + w2**2 + 5*w3**2 - w1*w2 + 2*w1*w3 + 6*w1 - 5*w2\n",
        "  return result\n",
        "\n",
        "def fletcher_reeves(x0, h, e, f):\n",
        "    xcur = np.array(x0)\n",
        "    h = np.array(h)\n",
        "    n = len(x0)\n",
        "    k = 0\n",
        "    grad = optimize.approx_fprime(xcur, f, e**4)\n",
        "    prevgrad = 1\n",
        "    pk = -1*grad\n",
        "    while (any([abs(grad[i]) > e**2 for i in range(n)])):\n",
        "        if (k%n==0):\n",
        "            pk = -1*grad\n",
        "        else: \n",
        "            bk = (np.linalg.norm(grad)**2)/(np.linalg.norm(prevgrad)**2)\n",
        "            prevpk = pk\n",
        "            pk = -1*grad + bk*prevpk\n",
        "        a = (optimize.minimize_scalar(lambda x: f(xcur+pk*x), bounds=(0,)).x)\n",
        "        xcur = xcur + a*pk \n",
        "        k += 1 \n",
        "        print('Итерация:', k)\n",
        "        print('Градиент:', grad)\n",
        "        print('X* = ', xcur)\n",
        "        print('')\n",
        "\n",
        "        prevgrad=grad\n",
        "        grad=optimize.approx_fprime(xcur, f, e**4)\n",
        "    print('Всего итераций:', k)\n",
        "    return xcur\n",
        "\n",
        "\n",
        "x0 =np.array([0.686, 2.157, -0.137])\n",
        "\n",
        "print('X* = ', fletcher_reeves(x0, 0.1, 0.005, function))"
      ],
      "execution_count": 11,
      "outputs": [
        {
          "output_type": "stream",
          "text": [
            "Итерация: 1\n",
            "Градиент: [ 7.68500001e+00 -1.37200118e+00  1.99804617e-03]\n",
            "X* =  [-0.54883862  2.37745544 -0.13732105]\n",
            "\n",
            "Итерация: 2\n",
            "Градиент: [ 0.05486953  0.30374849 -2.47088963]\n",
            "X* =  [-0.64026116  2.35952107  0.13261163]\n",
            "\n",
            "Итерация: 3\n",
            "Градиент: [0.06413501 0.35930157 0.04559411]\n",
            "X* =  [-0.68627481  2.15686286  0.1372545 ]\n",
            "\n",
            "Всего итераций: 3\n",
            "X* =  [-0.68627481  2.15686286  0.1372545 ]\n"
          ],
          "name": "stdout"
        }
      ]
    }
  ]
}