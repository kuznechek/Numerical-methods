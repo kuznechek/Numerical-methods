{
  "nbformat": 4,
  "nbformat_minor": 0,
  "metadata": {
    "colab": {
      "name": "CoordinatoryDescent.ipynb",
      "provenance": [],
      "authorship_tag": "ABX9TyMA78N/kKxcFcHCT6590ZC/",
      "include_colab_link": true
    },
    "kernelspec": {
      "name": "python3",
      "display_name": "Python 3"
    }
  },
  "cells": [
    {
      "cell_type": "markdown",
      "metadata": {
        "id": "view-in-github",
        "colab_type": "text"
      },
      "source": [
        "<a href=\"https://colab.research.google.com/github/kuznechek/Numerical-methods/blob/main/CoordinatoryDescent.ipynb\" target=\"_parent\"><img src=\"https://colab.research.google.com/assets/colab-badge.svg\" alt=\"Open In Colab\"/></a>"
      ]
    },
    {
      "cell_type": "markdown",
      "metadata": {
        "id": "9mv7MXCTvlS8"
      },
      "source": [
        "# Метод покоординатного спуска"
      ]
    },
    {
      "cell_type": "code",
      "metadata": {
        "id": "ICMq8DBPvcoy",
        "outputId": "40484189-75e3-49a5-e98e-d0792308fec0",
        "colab": {
          "base_uri": "https://localhost:8080/",
          "height": 272
        }
      },
      "source": [
        "import torch\n",
        "\n",
        "def function(w,i):\n",
        "  if i == 0:\n",
        "    w1, w2, w3 = w, 0, 0\n",
        "  elif i == 1:\n",
        "    w1, w2, w3 = 0, w, 0\n",
        "  elif i == 2:\n",
        "    w1, w2, w3 = 0, 0, w\n",
        "  result = 3 *w1**2 + w2**2 + 5*w3**2 - w1*w2 + 2*w1*w3 + 6*w1 - 5*w2\n",
        "  return result\n",
        "\n",
        "def golden_section(w):\n",
        "  c = 0.38196\n",
        "  norma = 10.  \n",
        "  for i in range(3):\n",
        "    a = -0.66\n",
        "    b = 2.68\n",
        "    y = a + c*(b-a)\n",
        "    z = a + b - y\n",
        "    norma = abs(a-b)\n",
        "    #print('Норма :', norma)\n",
        "    while norma >= 0.05:\n",
        "      fy = function(y,i)\n",
        "      fz = function(z,i)\n",
        "      #print(' ')\n",
        "      #print('f(y),f(z) =',fy,fz)\n",
        "      if fy <= fz:\n",
        "        b = z\n",
        "        y = a + b - y\n",
        "        z = y\n",
        "        print('A =', a)\n",
        "        print('B =', b)\n",
        "        if i == 0:\n",
        "          print('X* =', (a+b)/2)\n",
        "        elif i == 1:\n",
        "          print('Y* =', (a+b)/2)\n",
        "        else:\n",
        "          print('Z* =', (a+b)/2)\n",
        "        print('')\n",
        "        norma = abs(a-b)\n",
        "        break\n",
        "      else:\n",
        "        a = y\n",
        "        y = z\n",
        "        z = a + b - z\n",
        "\n",
        "x = [0.125, 2.625, -0.625]\n",
        "print('Начальные координаты : X =', x)\n",
        "print('')\n",
        "golden_section(x)\n"
      ],
      "execution_count": null,
      "outputs": [
        {
          "output_type": "stream",
          "text": [
            "Начальные координаты : X = [0.125, 2.625, -0.625]\n",
            "\n",
            "A = -0.66\n",
            "B = 1.4042535999999997\n",
            "X* = 0.3721267999999998\n",
            "\n",
            "A = 2.378732000000002\n",
            "B = 2.5647032000000047\n",
            "Y* = 2.4717176000000034\n",
            "\n",
            "A = -0.66\n",
            "B = 1.4042535999999997\n",
            "Z* = 0.3721267999999998\n",
            "\n"
          ],
          "name": "stdout"
        }
      ]
    }
  ]
}