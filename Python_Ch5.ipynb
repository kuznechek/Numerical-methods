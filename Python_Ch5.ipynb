{
  "nbformat": 4,
  "nbformat_minor": 0,
  "metadata": {
    "colab": {
      "name": "Python_Ch5.ipynb",
      "provenance": [],
      "authorship_tag": "ABX9TyO1gWsGMk+mWI24MNLbL+4M",
      "include_colab_link": true
    },
    "kernelspec": {
      "name": "python3",
      "display_name": "Python 3"
    }
  },
  "cells": [
    {
      "cell_type": "markdown",
      "metadata": {
        "id": "view-in-github",
        "colab_type": "text"
      },
      "source": [
        "<a href=\"https://colab.research.google.com/github/kuznechek/Numerical-methods/blob/main/Python_Ch5.ipynb\" target=\"_parent\"><img src=\"https://colab.research.google.com/assets/colab-badge.svg\" alt=\"Open In Colab\"/></a>"
      ]
    },
    {
      "cell_type": "code",
      "metadata": {
        "colab": {
          "base_uri": "https://localhost:8080/"
        },
        "id": "IHZP5o4VfujM",
        "outputId": "9c373d18-c523-408b-c0ae-4e804fb81890"
      },
      "source": [
        "import torchvision.datasets\r\n",
        "MNIST_train = torchvision.datasets.MNIST('./', download=True, train=True)\r\n",
        "x= MNIST_train.train_data\r\n",
        "x= x.float()\r\n",
        "\r\n",
        "x.reshape(-1).shape"
      ],
      "execution_count": 31,
      "outputs": [
        {
          "output_type": "stream",
          "text": [
            "/usr/local/lib/python3.6/dist-packages/torchvision/datasets/mnist.py:58: UserWarning: train_data has been renamed data\n",
            "  warnings.warn(\"train_data has been renamed data\")\n"
          ],
          "name": "stderr"
        },
        {
          "output_type": "execute_result",
          "data": {
            "text/plain": [
              "torch.Size([47040000])"
            ]
          },
          "metadata": {
            "tags": []
          },
          "execution_count": 31
        }
      ]
    },
    {
      "cell_type": "code",
      "metadata": {
        "colab": {
          "base_uri": "https://localhost:8080/"
        },
        "id": "nak99oPHjj_5",
        "outputId": "d46ec466-7146-4e51-a577-8c99a0e904be"
      },
      "source": [
        "import torch\r\n",
        "\r\n",
        "x = torch.tensor([[10., 20.]])\r\n",
        "fc = torch.nn.Linear(2, 3)\r\n",
        "\r\n",
        "# Веса fc-слоя хранятся в fc.weight, а bias'ы соответственно в fc.bias\r\n",
        "# fc.weight и fc.bias по умолчанию инициализируются случайными числами\r\n",
        "\r\n",
        "# Давайте проставим свои значения в веса и bias'ы:\r\n",
        "w = torch.tensor([[11., 12.], [21., 22.], [31., 32]])\r\n",
        "fc.weight.data = w\r\n",
        "\r\n",
        "b = torch.tensor([[31., 32., 33.]])\r\n",
        "fc.bias.data = b\r\n",
        "\r\n",
        "# Получим выход fc-слоя:\r\n",
        "fc_out = fc(x)\r\n",
        "\r\n",
        "# Попробуем теперь получить аналогичные выходы с помощью матричного перемножения:\r\n",
        "fc_out_alternative = x @ torch.t(w) + b\r\n",
        "\r\n",
        "# Проверка осуществляется автоматически вызовом функции\r\n",
        "print(fc_out == fc_out_alternative)\r\n",
        "# (раскомментируйте, если решаете задачу локально)"
      ],
      "execution_count": 35,
      "outputs": [
        {
          "output_type": "stream",
          "text": [
            "tensor([[True, True, True]])\n"
          ],
          "name": "stdout"
        }
      ]
    },
    {
      "cell_type": "code",
      "metadata": {
        "colab": {
          "base_uri": "https://localhost:8080/"
        },
        "id": "cVPiUm-4oT8N",
        "outputId": "a2ea1e70-1e33-49a1-e353-d31e366111da"
      },
      "source": [
        "import torch\r\n",
        "\r\n",
        "from torch import nn\r\n",
        "\r\n",
        "conv = nn.Conv2d(1,1,kernel_size=3, padding=1, stride=2, bias=False)\r\n",
        "\r\n",
        "X = torch.FloatTensor([[[\r\n",
        "\r\n",
        "    [4, 2, -1],\r\n",
        "\r\n",
        "    [-6, 0, 5],\r\n",
        "\r\n",
        "    [3, 2, 2]]]])\r\n",
        "\r\n",
        "conv.weight.data = torch.FloatTensor([[[\r\n",
        "\r\n",
        "    [0, 1, 2],\r\n",
        "\r\n",
        "    [1, -1, 0],\r\n",
        "\r\n",
        "    [1, 0, -2]]]])\r\n",
        "\r\n",
        "res = conv(X).data[0,0]\r\n",
        "\r\n",
        "print(res)"
      ],
      "execution_count": 36,
      "outputs": [
        {
          "output_type": "stream",
          "text": [
            "tensor([[-4.,  3.],\n",
            "        [-9.,  5.]])\n"
          ],
          "name": "stdout"
        }
      ]
    },
    {
      "cell_type": "code",
      "metadata": {
        "colab": {
          "base_uri": "https://localhost:8080/",
          "height": 201
        },
        "id": "ImpL8OVsuiJy",
        "outputId": "2a62fe01-b610-490f-e127-dd0cab557b1a"
      },
      "source": [
        "import torch\r\n",
        "\r\n",
        "# Создаем входной массив из двух изображений RGB 3*3\r\n",
        "input_images = torch.tensor(\r\n",
        "      [[[[0,  1,  2],\r\n",
        "         [3,  4,  5],\r\n",
        "         [6,  7,  8]],\r\n",
        "\r\n",
        "        [[9, 10, 11],\r\n",
        "         [12, 13, 14],\r\n",
        "         [15, 16, 17]],\r\n",
        "\r\n",
        "        [[18, 19, 20],\r\n",
        "         [21, 22, 23],\r\n",
        "         [24, 25, 26]]],\r\n",
        "\r\n",
        "\r\n",
        "       [[[27, 28, 29],\r\n",
        "         [30, 31, 32],\r\n",
        "         [33, 34, 35]],\r\n",
        "\r\n",
        "        [[36, 37, 38],\r\n",
        "         [39, 40, 41],\r\n",
        "         [42, 43, 44]],\r\n",
        "\r\n",
        "        [[45, 46, 47],\r\n",
        "         [48, 49, 50],\r\n",
        "         [51, 52, 53]]]])\r\n",
        "\r\n",
        "\r\n",
        "def get_padding2d(input_images):\r\n",
        "    padded_images = torch.nn.functional.pad(input_images, pad=(3,0,2,1)) \r\n",
        "    padded_images.float()\r\n",
        "    return padded_images\r\n",
        "\r\n",
        "\r\n",
        "correct_padded_images = torch.tensor(\r\n",
        "       [[[[0.,  0.,  0.,  0.,  0.],\r\n",
        "          [0.,  0.,  1.,  2.,  0.],\r\n",
        "          [0.,  3.,  4.,  5.,  0.],\r\n",
        "          [0.,  6.,  7.,  8.,  0.],\r\n",
        "          [0.,  0.,  0.,  0.,  0.]],\r\n",
        "\r\n",
        "         [[0.,  0.,  0.,  0.,  0.],\r\n",
        "          [0.,  9., 10., 11.,  0.],\r\n",
        "          [0., 12., 13., 14.,  0.],\r\n",
        "          [0., 15., 16., 17.,  0.],\r\n",
        "          [0.,  0.,  0.,  0.,  0.]],\r\n",
        "\r\n",
        "         [[0.,  0.,  0.,  0.,  0.],\r\n",
        "          [0., 18., 19., 20.,  0.],\r\n",
        "          [0., 21., 22., 23.,  0.],\r\n",
        "          [0., 24., 25., 26.,  0.],\r\n",
        "          [0.,  0.,  0.,  0.,  0.]]],\r\n",
        "\r\n",
        "\r\n",
        "        [[[0.,  0.,  0.,  0.,  0.],\r\n",
        "          [0., 27., 28., 29.,  0.],\r\n",
        "          [0., 30., 31., 32.,  0.],\r\n",
        "          [0., 33., 34., 35.,  0.],\r\n",
        "          [0.,  0.,  0.,  0.,  0.]],\r\n",
        "\r\n",
        "         [[0.,  0.,  0.,  0.,  0.],\r\n",
        "          [0., 36., 37., 38.,  0.],\r\n",
        "          [0., 39., 40., 41.,  0.],\r\n",
        "          [0., 42., 43., 44.,  0.],\r\n",
        "          [0.,  0.,  0.,  0.,  0.]],\r\n",
        "\r\n",
        "         [[0.,  0.,  0.,  0.,  0.],\r\n",
        "          [0., 45., 46., 47.,  0.],\r\n",
        "          [0., 48., 49., 50.,  0.],\r\n",
        "          [0., 51., 52., 53.,  0.],\r\n",
        "          [0.,  0.,  0.,  0.,  0.]]]])\r\n",
        "\r\n",
        "# Проверка происходит автоматически вызовом следующего кода\r\n",
        "# (раскомментируйте для самостоятельной проверки,\r\n",
        "#  в коде для сдачи задания должно быть закомментировано):\r\n",
        "print(torch.allclose(get_padding2d(input_images), correct_padded_images))"
      ],
      "execution_count": 40,
      "outputs": [
        {
          "output_type": "error",
          "ename": "RuntimeError",
          "evalue": "ignored",
          "traceback": [
            "\u001b[0;31m---------------------------------------------------------------------------\u001b[0m",
            "\u001b[0;31mRuntimeError\u001b[0m                              Traceback (most recent call last)",
            "\u001b[0;32m<ipython-input-40-d521341a281a>\u001b[0m in \u001b[0;36m<module>\u001b[0;34m()\u001b[0m\n\u001b[1;32m     76\u001b[0m \u001b[0;31m# (раскомментируйте для самостоятельной проверки,\u001b[0m\u001b[0;34m\u001b[0m\u001b[0;34m\u001b[0m\u001b[0;34m\u001b[0m\u001b[0m\n\u001b[1;32m     77\u001b[0m \u001b[0;31m#  в коде для сдачи задания должно быть закомментировано):\u001b[0m\u001b[0;34m\u001b[0m\u001b[0;34m\u001b[0m\u001b[0;34m\u001b[0m\u001b[0m\n\u001b[0;32m---> 78\u001b[0;31m \u001b[0mprint\u001b[0m\u001b[0;34m(\u001b[0m\u001b[0mtorch\u001b[0m\u001b[0;34m.\u001b[0m\u001b[0mallclose\u001b[0m\u001b[0;34m(\u001b[0m\u001b[0mget_padding2d\u001b[0m\u001b[0;34m(\u001b[0m\u001b[0minput_images\u001b[0m\u001b[0;34m)\u001b[0m\u001b[0;34m,\u001b[0m \u001b[0mcorrect_padded_images\u001b[0m\u001b[0;34m)\u001b[0m\u001b[0;34m)\u001b[0m\u001b[0;34m\u001b[0m\u001b[0;34m\u001b[0m\u001b[0m\n\u001b[0m",
            "\u001b[0;31mRuntimeError\u001b[0m: Long did not match Float"
          ]
        }
      ]
    }
  ]
}