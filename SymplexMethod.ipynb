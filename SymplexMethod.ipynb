{
  "nbformat": 4,
  "nbformat_minor": 0,
  "metadata": {
    "colab": {
      "name": "Копия блокнота \"SymplexMethod.ipynb\"",
      "provenance": [],
      "collapsed_sections": [],
      "include_colab_link": true
    },
    "kernelspec": {
      "name": "python3",
      "display_name": "Python 3"
    }
  },
  "cells": [
    {
      "cell_type": "markdown",
      "metadata": {
        "id": "view-in-github",
        "colab_type": "text"
      },
      "source": [
        "<a href=\"https://colab.research.google.com/github/kuznechek/Numerical-methods/blob/main/SymplexMethod.ipynb\" target=\"_parent\"><img src=\"https://colab.research.google.com/assets/colab-badge.svg\" alt=\"Open In Colab\"/></a>"
      ]
    },
    {
      "cell_type": "code",
      "metadata": {
        "id": "W3m0YyxbzQlx"
      },
      "source": [
        "def print_matrix(matrix, length1, kength2):\n",
        "  for i in range(length1):\n",
        "    s = ''\n",
        "    for j in range(kength2):\n",
        "      s += str(matrix[i][j]) + ' '\n",
        "    print(s)\n",
        "  return 0\n",
        "\n",
        "def check_end(matrix, length):\n",
        "  for j in range(length):\n",
        "    if matrix[0][j] < 0:\n",
        "      print ('Среди элементов 0-ой строки есть отрицательные: оптимальное решение не найдено.')\n",
        "      return False\n",
        "  print ('\\n--\\nО, сколько нам открытий чудных\\nГотовит просвещенья дух,\\nИ опыт, сын ошибок трудных,\\nИ гений, парадоксов друг,\\nИ случай, Бог изобретатель.')\n",
        "  print ('\\nОптимальное решение найдено!')\n",
        "\n",
        "  return True\n",
        "\n",
        "def choose_host_column(matrix, length):\n",
        "  a_list = []\n",
        "  j_list = []\n",
        "\n",
        "  for j in range(length):\n",
        "    if matrix[0][j] < 0:\n",
        "      a_list.append(matrix[0][j])\n",
        "      j_list.append(j)\n",
        "\n",
        "  ind = a_list.index(max(a_list))\n",
        "  j = j_list[ind]\n",
        "  return j\n",
        "\n",
        "def choose_host_elem(matrix, length, j):\n",
        "  a_list = []\n",
        "  i_list = []\n",
        "\n",
        "  for i in range(length):\n",
        "    if matrix[i][j] > 0:\n",
        "      a_list.append(abs(matrix[i][j] / matrix[0][j]))\n",
        "      i_list.append(i)\n",
        "      \n",
        "  ind = a_list.index(min(a_list))\n",
        "  i = i_list[ind]\n",
        "  return i\n",
        "\n",
        "def div_matrix(matrix, length, i, host):\n",
        "  line = []\n",
        "  for j in range(length):\n",
        "    line.append(round(matrix[i][j] / host, 2))\n",
        "  matrix[i] = line\n",
        "\n",
        "  return matrix\n",
        "\n",
        "def recount_matrix(matrix, length, i, j):\n",
        "  koef = abs(matrix[0][j])\n",
        "  print(\"Прибавим к первой строке матрицы\", koef)\n",
        "  \n",
        "  for k in range(length):\n",
        "    matrix[0][k] = round(matrix[0][k] + koef * matrix[i][k], 2)\n",
        "\n",
        "  return matrix\n"
      ],
      "execution_count": 71,
      "outputs": []
    },
    {
      "cell_type": "code",
      "metadata": {
        "colab": {
          "base_uri": "https://localhost:8080/"
        },
        "id": "UxCoiwljsIgR",
        "outputId": "7771cdbd-462e-4130-a41a-113d1b0d9a0b"
      },
      "source": [
        "matrix_A = [[0,  7, -1,  5,  6,  9],\n",
        "            [9,  1,  2,  7,  0,  0],\n",
        "            [9,  0,  6,  3,  1, -1]]\n",
        "\n",
        "n = 3\n",
        "m = 6\n",
        "k = 1\n",
        "\n",
        "if m > n:\n",
        "  print('\\nМатрица :')\n",
        "  print_matrix(matrix_A, n, m)\n",
        "  # 0. Проверка\n",
        "  while check_end(matrix_A, m) == False:\n",
        "    print('\\nИтерация', k)\n",
        "\n",
        "    # 1. Поиск ведущего столбца\n",
        "    s = choose_host_column(matrix_A, m)\n",
        "    print('Ведущий столбец -', s)\n",
        "\n",
        "    # 2. Писк ведущей строки\n",
        "    r = choose_host_elem(matrix_A, n, s)\n",
        "    print('Ведущая строка  -', r)\n",
        "    print('Ведущий элемент -', matrix_A[r][s])\n",
        "\n",
        "    # 3.1 Деление на ведущий элемент\n",
        "    print(\"\\nПоделим элементы ведущей строки на ведущий элемент :\")\n",
        "    matrix_A = div_matrix(matrix_A, m, r, matrix_A[r][s])\n",
        "    print_matrix(matrix_A, n, m)\n",
        "\n",
        "    # 3.2 Преобразование матрицы\n",
        "    matrix_A = recount_matrix(matrix_A, m, r, s)\n",
        "    print('\\nИзменённая матрица :')\n",
        "    print_matrix(matrix_A, n, m)\n",
        "    k += 1"
      ],
      "execution_count": 72,
      "outputs": [
        {
          "output_type": "stream",
          "name": "stdout",
          "text": [
            "\n",
            "Матрица :\n",
            "0 7 -1 5 6 9 \n",
            "9 1 2 7 0 0 \n",
            "9 0 6 3 1 -1 \n",
            "Среди элементов 0-ой строки есть отрицательные: оптимальное решение не найдено.\n",
            "\n",
            "Итерация 1\n",
            "Ведущий столбец - 2\n",
            "Ведущая строка  - 1\n",
            "Ведущий элемент - 2\n",
            "\n",
            "Поделим элементы ведущей строки на ведущий элемент :\n",
            "0 7 -1 5 6 9 \n",
            "4.5 0.5 1.0 3.5 0.0 0.0 \n",
            "9 0 6 3 1 -1 \n",
            "Прибавим к первой строке матрицы 1\n",
            "\n",
            "Изменённая матрица :\n",
            "4.5 7.5 0.0 8.5 6.0 9.0 \n",
            "4.5 0.5 1.0 3.5 0.0 0.0 \n",
            "9 0 6 3 1 -1 \n",
            "\n",
            "--\n",
            "О, сколько нам открытий чудных\n",
            "Готовит просвещенья дух,\n",
            "И опыт, сын ошибок трудных,\n",
            "И гений, парадоксов друг,\n",
            "И случай, Бог изобретатель.\n",
            "\n",
            "Оптимальное решение найдено!\n"
          ]
        }
      ]
    }
  ]
}